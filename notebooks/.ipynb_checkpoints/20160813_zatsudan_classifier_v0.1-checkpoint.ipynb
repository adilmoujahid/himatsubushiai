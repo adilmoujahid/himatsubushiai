{
 "cells": [
  {
   "cell_type": "code",
   "execution_count": 129,
   "metadata": {
    "collapsed": true
   },
   "outputs": [],
   "source": [
    "# -*- coding: utf-8 -*-"
   ]
  },
  {
   "cell_type": "code",
   "execution_count": 130,
   "metadata": {
    "collapsed": true
   },
   "outputs": [],
   "source": [
    "import itertools\n",
    "import numpy as np\n",
    "import pandas as pd\n",
    "import MeCab\n",
    "\n",
    "from sklearn.feature_extraction.text import CountVectorizer\n",
    "from sklearn.feature_extraction.text import TfidfTransformer\n",
    "\n",
    "from sklearn import cross_validation, metrics\n",
    "\n",
    "from sklearn.naive_bayes import MultinomialNB\n",
    "from sklearn.ensemble import RandomForestClassifier\n",
    "from sklearn.svm import SVC"
   ]
  },
  {
   "cell_type": "code",
   "execution_count": 131,
   "metadata": {
    "collapsed": true
   },
   "outputs": [],
   "source": [
    "SEED = 2016"
   ]
  },
  {
   "cell_type": "markdown",
   "metadata": {},
   "source": [
    "# Reading Data"
   ]
  },
  {
   "cell_type": "code",
   "execution_count": 132,
   "metadata": {
    "collapsed": true
   },
   "outputs": [],
   "source": [
    "data_path = '../input/zatsudanClassifierTrainingData.csv'"
   ]
  },
  {
   "cell_type": "code",
   "execution_count": 133,
   "metadata": {
    "collapsed": true
   },
   "outputs": [],
   "source": [
    "data = pd.read_csv(data_path, header=None, names=['sentence', 'category'])"
   ]
  },
  {
   "cell_type": "code",
   "execution_count": 134,
   "metadata": {
    "collapsed": false
   },
   "outputs": [
    {
     "data": {
      "text/html": [
       "<div>\n",
       "<table border=\"1\" class=\"dataframe\">\n",
       "  <thead>\n",
       "    <tr style=\"text-align: right;\">\n",
       "      <th></th>\n",
       "      <th>sentence</th>\n",
       "      <th>category</th>\n",
       "    </tr>\n",
       "  </thead>\n",
       "  <tbody>\n",
       "    <tr>\n",
       "      <th>0</th>\n",
       "      <td>元気ですか</td>\n",
       "      <td>zatsudan</td>\n",
       "    </tr>\n",
       "    <tr>\n",
       "      <th>1</th>\n",
       "      <td>最近どう？</td>\n",
       "      <td>zatsudan</td>\n",
       "    </tr>\n",
       "    <tr>\n",
       "      <th>2</th>\n",
       "      <td>ロンドンの天気教えて</td>\n",
       "      <td>notzatsudan</td>\n",
       "    </tr>\n",
       "    <tr>\n",
       "      <th>3</th>\n",
       "      <td>最近仕事うまくいってる</td>\n",
       "      <td>zatsudan</td>\n",
       "    </tr>\n",
       "    <tr>\n",
       "      <th>4</th>\n",
       "      <td>火花はどう思う</td>\n",
       "      <td>zatsudan</td>\n",
       "    </tr>\n",
       "  </tbody>\n",
       "</table>\n",
       "</div>"
      ],
      "text/plain": [
       "      sentence     category\n",
       "0        元気ですか     zatsudan\n",
       "1        最近どう？     zatsudan\n",
       "2  ロンドンの天気教えて   notzatsudan\n",
       "3  最近仕事うまくいってる     zatsudan\n",
       "4      火花はどう思う     zatsudan"
      ]
     },
     "execution_count": 134,
     "metadata": {},
     "output_type": "execute_result"
    }
   ],
   "source": [
    "data.head()"
   ]
  },
  {
   "cell_type": "code",
   "execution_count": 135,
   "metadata": {
    "collapsed": false
   },
   "outputs": [],
   "source": [
    "data['class'] = data['category'].map({'zatsudan':1, 'notzatsudan':0})"
   ]
  },
  {
   "cell_type": "code",
   "execution_count": 136,
   "metadata": {
    "collapsed": false
   },
   "outputs": [
    {
     "data": {
      "text/html": [
       "<div>\n",
       "<table border=\"1\" class=\"dataframe\">\n",
       "  <thead>\n",
       "    <tr style=\"text-align: right;\">\n",
       "      <th></th>\n",
       "      <th>sentence</th>\n",
       "      <th>category</th>\n",
       "      <th>class</th>\n",
       "    </tr>\n",
       "  </thead>\n",
       "  <tbody>\n",
       "    <tr>\n",
       "      <th>0</th>\n",
       "      <td>元気ですか</td>\n",
       "      <td>zatsudan</td>\n",
       "      <td>1</td>\n",
       "    </tr>\n",
       "    <tr>\n",
       "      <th>1</th>\n",
       "      <td>最近どう？</td>\n",
       "      <td>zatsudan</td>\n",
       "      <td>1</td>\n",
       "    </tr>\n",
       "    <tr>\n",
       "      <th>2</th>\n",
       "      <td>ロンドンの天気教えて</td>\n",
       "      <td>notzatsudan</td>\n",
       "      <td>0</td>\n",
       "    </tr>\n",
       "    <tr>\n",
       "      <th>3</th>\n",
       "      <td>最近仕事うまくいってる</td>\n",
       "      <td>zatsudan</td>\n",
       "      <td>1</td>\n",
       "    </tr>\n",
       "    <tr>\n",
       "      <th>4</th>\n",
       "      <td>火花はどう思う</td>\n",
       "      <td>zatsudan</td>\n",
       "      <td>1</td>\n",
       "    </tr>\n",
       "  </tbody>\n",
       "</table>\n",
       "</div>"
      ],
      "text/plain": [
       "      sentence     category  class\n",
       "0        元気ですか     zatsudan      1\n",
       "1        最近どう？     zatsudan      1\n",
       "2  ロンドンの天気教えて   notzatsudan      0\n",
       "3  最近仕事うまくいってる     zatsudan      1\n",
       "4      火花はどう思う     zatsudan      1"
      ]
     },
     "execution_count": 136,
     "metadata": {},
     "output_type": "execute_result"
    }
   ],
   "source": [
    "data.head()"
   ]
  },
  {
   "cell_type": "code",
   "execution_count": 137,
   "metadata": {
    "collapsed": false
   },
   "outputs": [
    {
     "data": {
      "text/plain": [
       "1    104\n",
       "0     95\n",
       "Name: class, dtype: int64"
      ]
     },
     "execution_count": 137,
     "metadata": {},
     "output_type": "execute_result"
    }
   ],
   "source": [
    "data['class'].value_counts()"
   ]
  },
  {
   "cell_type": "markdown",
   "metadata": {},
   "source": [
    "# Data Parsing"
   ]
  },
  {
   "cell_type": "code",
   "execution_count": 138,
   "metadata": {
    "collapsed": false
   },
   "outputs": [
    {
     "name": "stdout",
     "output_type": "stream",
     "text": [
      "元気 です か \n",
      "\n"
     ]
    }
   ],
   "source": [
    "# Testing Mecab Parsing\n",
    "t = MeCab.Tagger(\"-Owakati\")\n",
    "result = t.parse(data.loc[0]['sentence'])\n",
    "print result"
   ]
  },
  {
   "cell_type": "code",
   "execution_count": 139,
   "metadata": {
    "collapsed": true
   },
   "outputs": [],
   "source": [
    "data['parsed'] = data['sentence'].apply(lambda sentence: t.parse(sentence)[:-1])"
   ]
  },
  {
   "cell_type": "code",
   "execution_count": 140,
   "metadata": {
    "collapsed": false
   },
   "outputs": [
    {
     "data": {
      "text/html": [
       "<div>\n",
       "<table border=\"1\" class=\"dataframe\">\n",
       "  <thead>\n",
       "    <tr style=\"text-align: right;\">\n",
       "      <th></th>\n",
       "      <th>sentence</th>\n",
       "      <th>category</th>\n",
       "      <th>class</th>\n",
       "      <th>parsed</th>\n",
       "    </tr>\n",
       "  </thead>\n",
       "  <tbody>\n",
       "    <tr>\n",
       "      <th>0</th>\n",
       "      <td>元気ですか</td>\n",
       "      <td>zatsudan</td>\n",
       "      <td>1</td>\n",
       "      <td>元気 です か</td>\n",
       "    </tr>\n",
       "    <tr>\n",
       "      <th>1</th>\n",
       "      <td>最近どう？</td>\n",
       "      <td>zatsudan</td>\n",
       "      <td>1</td>\n",
       "      <td>最近 どう ？</td>\n",
       "    </tr>\n",
       "    <tr>\n",
       "      <th>2</th>\n",
       "      <td>ロンドンの天気教えて</td>\n",
       "      <td>notzatsudan</td>\n",
       "      <td>0</td>\n",
       "      <td>ロンドン の 天気 教え て</td>\n",
       "    </tr>\n",
       "    <tr>\n",
       "      <th>3</th>\n",
       "      <td>最近仕事うまくいってる</td>\n",
       "      <td>zatsudan</td>\n",
       "      <td>1</td>\n",
       "      <td>最近 仕事 うまく いっ てる</td>\n",
       "    </tr>\n",
       "    <tr>\n",
       "      <th>4</th>\n",
       "      <td>火花はどう思う</td>\n",
       "      <td>zatsudan</td>\n",
       "      <td>1</td>\n",
       "      <td>火花 は どう 思う</td>\n",
       "    </tr>\n",
       "  </tbody>\n",
       "</table>\n",
       "</div>"
      ],
      "text/plain": [
       "      sentence     category  class            parsed\n",
       "0        元気ですか     zatsudan      1          元気 です か \n",
       "1        最近どう？     zatsudan      1          最近 どう ？ \n",
       "2  ロンドンの天気教えて   notzatsudan      0   ロンドン の 天気 教え て \n",
       "3  最近仕事うまくいってる     zatsudan      1  最近 仕事 うまく いっ てる \n",
       "4      火花はどう思う     zatsudan      1       火花 は どう 思う "
      ]
     },
     "execution_count": 140,
     "metadata": {},
     "output_type": "execute_result"
    }
   ],
   "source": [
    "data.head()"
   ]
  },
  {
   "cell_type": "markdown",
   "metadata": {},
   "source": [
    "# Building Models"
   ]
  },
  {
   "cell_type": "markdown",
   "metadata": {},
   "source": [
    "### Building features: X_train_counts"
   ]
  },
  {
   "cell_type": "code",
   "execution_count": 141,
   "metadata": {
    "collapsed": false
   },
   "outputs": [
    {
     "name": "stdout",
     "output_type": "stream",
     "text": [
      "(199, 417)\n",
      "(199, 417)\n"
     ]
    }
   ],
   "source": [
    "count_vect = CountVectorizer()\n",
    "tfidf_transformer = TfidfTransformer()\n",
    "X_train_counts = count_vect.fit_transform(list(data['parsed']))\n",
    "X_train_tfidf = tfidf_transformer.fit_transform(X_train_counts)\n",
    "\n",
    "print X_train_counts.shape\n",
    "print X_train_tfidf.shape"
   ]
  },
  {
   "cell_type": "markdown",
   "metadata": {},
   "source": [
    "## Testing Model"
   ]
  },
  {
   "cell_type": "markdown",
   "metadata": {},
   "source": [
    "### CV Loop"
   ]
  },
  {
   "cell_type": "code",
   "execution_count": 149,
   "metadata": {
    "collapsed": true
   },
   "outputs": [],
   "source": [
    "def cv_loop(model, X, y, n):\n",
    "    \n",
    "    mean_accuracy = 0.0\n",
    "\n",
    "    for i in range(n):\n",
    "\n",
    "        X_train, X_cv, y_train, y_cv = cross_validation.train_test_split(\n",
    "            X, y, test_size=.20, random_state=i*SEED)\n",
    "\n",
    "        model.fit(X_train, y_train) \n",
    "        preds = model.predict(X_cv)\n",
    "\n",
    "        accuracy = metrics.accuracy_score(y_cv, preds)\n",
    "        print \"Accuracy (fold %d/%d): %f\" % (i + 1, n, accuracy)\n",
    "        mean_accuracy += accuracy\n",
    "    \n",
    "    print '-------'\n",
    "    print \"Mean Accuracy: %f\" % (mean_accuracy/n)"
   ]
  },
  {
   "cell_type": "code",
   "execution_count": 153,
   "metadata": {
    "collapsed": false
   },
   "outputs": [
    {
     "name": "stdout",
     "output_type": "stream",
     "text": [
      "Accuracy (fold 1/10): 0.625000\n",
      "Accuracy (fold 2/10): 0.650000\n",
      "Accuracy (fold 3/10): 0.625000\n",
      "Accuracy (fold 4/10): 0.775000\n",
      "Accuracy (fold 5/10): 0.800000\n",
      "Accuracy (fold 6/10): 0.800000\n",
      "Accuracy (fold 7/10): 0.775000\n",
      "Accuracy (fold 8/10): 0.700000\n",
      "Accuracy (fold 9/10): 0.625000\n",
      "Accuracy (fold 10/10): 0.725000\n",
      "-------\n",
      "Mean Accuracy: 0.710000\n"
     ]
    }
   ],
   "source": [
    "model =  MultinomialNB()\n",
    "cv_loop(model, X_train_counts, data['class'], 10)"
   ]
  },
  {
   "cell_type": "code",
   "execution_count": 154,
   "metadata": {
    "collapsed": false
   },
   "outputs": [
    {
     "name": "stdout",
     "output_type": "stream",
     "text": [
      "Accuracy (fold 1/10): 0.675000\n",
      "Accuracy (fold 2/10): 0.650000\n",
      "Accuracy (fold 3/10): 0.650000\n",
      "Accuracy (fold 4/10): 0.650000\n",
      "Accuracy (fold 5/10): 0.850000\n",
      "Accuracy (fold 6/10): 0.800000\n",
      "Accuracy (fold 7/10): 0.775000\n",
      "Accuracy (fold 8/10): 0.675000\n",
      "Accuracy (fold 9/10): 0.550000\n",
      "Accuracy (fold 10/10): 0.675000\n",
      "-------\n",
      "Mean Accuracy: 0.695000\n"
     ]
    }
   ],
   "source": [
    "model =  MultinomialNB()\n",
    "cv_loop(model, X_train_tfidf, data['class'], 10)"
   ]
  },
  {
   "cell_type": "code",
   "execution_count": 155,
   "metadata": {
    "collapsed": false
   },
   "outputs": [
    {
     "name": "stdout",
     "output_type": "stream",
     "text": [
      "Accuracy (fold 1/10): 0.700000\n",
      "Accuracy (fold 2/10): 0.825000\n",
      "Accuracy (fold 3/10): 0.625000\n",
      "Accuracy (fold 4/10): 0.850000\n",
      "Accuracy (fold 5/10): 0.725000\n",
      "Accuracy (fold 6/10): 0.850000\n",
      "Accuracy (fold 7/10): 0.825000\n",
      "Accuracy (fold 8/10): 0.775000\n",
      "Accuracy (fold 9/10): 0.700000\n",
      "Accuracy (fold 10/10): 0.825000\n",
      "-------\n",
      "Mean Accuracy: 0.770000\n"
     ]
    }
   ],
   "source": [
    "model =  RandomForestClassifier()\n",
    "cv_loop(model, X_train_counts, data['class'], 10)"
   ]
  },
  {
   "cell_type": "code",
   "execution_count": 156,
   "metadata": {
    "collapsed": false
   },
   "outputs": [
    {
     "name": "stdout",
     "output_type": "stream",
     "text": [
      "Accuracy (fold 1/10): 0.675000\n",
      "Accuracy (fold 2/10): 0.750000\n",
      "Accuracy (fold 3/10): 0.675000\n",
      "Accuracy (fold 4/10): 0.850000\n",
      "Accuracy (fold 5/10): 0.775000\n",
      "Accuracy (fold 6/10): 0.775000\n",
      "Accuracy (fold 7/10): 0.850000\n",
      "Accuracy (fold 8/10): 0.825000\n",
      "Accuracy (fold 9/10): 0.575000\n",
      "Accuracy (fold 10/10): 0.800000\n",
      "-------\n",
      "Mean Accuracy: 0.755000\n"
     ]
    }
   ],
   "source": [
    "model =  RandomForestClassifier()\n",
    "cv_loop(model, X_train_tfidf, data['class'], 10)"
   ]
  },
  {
   "cell_type": "code",
   "execution_count": 157,
   "metadata": {
    "collapsed": false
   },
   "outputs": [
    {
     "name": "stdout",
     "output_type": "stream",
     "text": [
      "Accuracy (fold 1/10): 0.525000\n",
      "Accuracy (fold 2/10): 0.600000\n",
      "Accuracy (fold 3/10): 0.550000\n",
      "Accuracy (fold 4/10): 0.325000\n",
      "Accuracy (fold 5/10): 0.575000\n",
      "Accuracy (fold 6/10): 0.375000\n",
      "Accuracy (fold 7/10): 0.375000\n",
      "Accuracy (fold 8/10): 0.500000\n",
      "Accuracy (fold 9/10): 0.450000\n",
      "Accuracy (fold 10/10): 0.600000\n",
      "-------\n",
      "Mean Accuracy: 0.487500\n"
     ]
    }
   ],
   "source": [
    "model =  SVC()\n",
    "cv_loop(model, X_train_counts, data['class'], 10)"
   ]
  },
  {
   "cell_type": "code",
   "execution_count": 158,
   "metadata": {
    "collapsed": false
   },
   "outputs": [
    {
     "name": "stdout",
     "output_type": "stream",
     "text": [
      "Accuracy (fold 1/10): 0.525000\n",
      "Accuracy (fold 2/10): 0.600000\n",
      "Accuracy (fold 3/10): 0.550000\n",
      "Accuracy (fold 4/10): 0.325000\n",
      "Accuracy (fold 5/10): 0.575000\n",
      "Accuracy (fold 6/10): 0.375000\n",
      "Accuracy (fold 7/10): 0.375000\n",
      "Accuracy (fold 8/10): 0.500000\n",
      "Accuracy (fold 9/10): 0.450000\n",
      "Accuracy (fold 10/10): 0.600000\n",
      "-------\n",
      "Mean Accuracy: 0.487500\n"
     ]
    }
   ],
   "source": [
    "model = SVC()\n",
    "cv_loop(model, X_train_tfidf, data['class'], 10)"
   ]
  },
  {
   "cell_type": "markdown",
   "metadata": {},
   "source": [
    "# Next Steps: Model Hyperparameters tuning"
   ]
  },
  {
   "cell_type": "code",
   "execution_count": null,
   "metadata": {
    "collapsed": true
   },
   "outputs": [],
   "source": []
  }
 ],
 "metadata": {
  "anaconda-cloud": {},
  "kernelspec": {
   "display_name": "Python [ai]",
   "language": "python",
   "name": "Python [ai]"
  },
  "language_info": {
   "codemirror_mode": {
    "name": "ipython",
    "version": 2
   },
   "file_extension": ".py",
   "mimetype": "text/x-python",
   "name": "python",
   "nbconvert_exporter": "python",
   "pygments_lexer": "ipython2",
   "version": "2.7.12"
  }
 },
 "nbformat": 4,
 "nbformat_minor": 0
}
